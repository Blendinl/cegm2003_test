{
  "nbformat": 4,
  "nbformat_minor": 0,
  "metadata": {
    "colab": {
      "provenance": [],
      "gpuType": "T4"
    },
    "kernelspec": {
      "name": "python3",
      "display_name": "Python 3"
    },
    "language_info": {
      "name": "python"
    },
    "accelerator": "GPU"
  },
  "cells": [
    {
      "cell_type": "markdown",
      "source": [
        "# Connecting Google Drive to Colab"
      ],
      "metadata": {
        "id": "1hXH-4uKHtbB"
      }
    },
    {
      "cell_type": "code",
      "source": [
        "from google.colab import drive\n",
        "drive.mount('/content/drive')"
      ],
      "metadata": {
        "id": "RNLFo4W2Hq2N",
        "colab": {
          "base_uri": "https://localhost:8080/"
        },
        "outputId": "c9187688-695e-4675-8a8b-6fd1ada6e243"
      },
      "execution_count": 7,
      "outputs": [
        {
          "output_type": "stream",
          "name": "stdout",
          "text": [
            "Mounted at /content/drive\n"
          ]
        }
      ]
    },
    {
      "cell_type": "markdown",
      "source": [
        "# Running shell commands directly from notebook cells"
      ],
      "metadata": {
        "id": "RgFqkcg9HyO9"
      }
    },
    {
      "cell_type": "code",
      "source": [
        "!git clone https://github.com/Blendinl/cegm2003_test.git"
      ],
      "metadata": {
        "colab": {
          "base_uri": "https://localhost:8080/"
        },
        "id": "9Q-1EUJFHqgE",
        "outputId": "89a26041-f9fe-4185-de16-c90b9702fafa"
      },
      "execution_count": 8,
      "outputs": [
        {
          "output_type": "stream",
          "name": "stdout",
          "text": [
            "fatal: destination path 'cegm2003_test' already exists and is not an empty directory.\n"
          ]
        }
      ]
    },
    {
      "cell_type": "markdown",
      "source": [
        "## Import libraries"
      ],
      "metadata": {
        "id": "LNOZvXajH67J"
      }
    },
    {
      "cell_type": "code",
      "execution_count": 9,
      "metadata": {
        "id": "cqQIYezgGojK"
      },
      "outputs": [],
      "source": [
        "# We import some basic libraries for some operations later in the notebook\n",
        "import os\n",
        "import numpy as np\n",
        "import torch\n",
        "import torch.nn as nn\n",
        "\n",
        "torch.set_default_dtype(torch.float32)\n",
        "from torch.utils.data import DataLoader, Dataset\n",
        "import matplotlib.pyplot as plt\n",
        "from cycler import cycler\n",
        "import seaborn as sns\n",
        "\n",
        "from urllib.request import urlretrieve"
      ]
    },
    {
      "cell_type": "code",
      "source": [
        "# Set the color scheme\n",
        "sns.set_theme()\n",
        "colors = [\n",
        "    \"#0076C2\",\n",
        "    \"#EC6842\",\n",
        "    \"#A50034\",\n",
        "    \"#009B77\",\n",
        "    \"#FFB81C\",\n",
        "    \"#E03C31\",\n",
        "    \"#6CC24A\",\n",
        "    \"#EF60A3\",\n",
        "    \"#0C2340\",\n",
        "    \"#00B8C8\",\n",
        "    \"#6F1D77\",\n",
        "]\n",
        "plt.rcParams[\"axes.prop_cycle\"] = cycler(color=colors)"
      ],
      "metadata": {
        "id": "dqdGoQ34HMzZ"
      },
      "execution_count": 10,
      "outputs": []
    },
    {
      "cell_type": "code",
      "source": [
        "device = torch.device(\"cuda\") if torch.cuda.is_available() else torch.device(\"cpu\")\n",
        "print(\"Device: \", device)"
      ],
      "metadata": {
        "colab": {
          "base_uri": "https://localhost:8080/"
        },
        "id": "TyqAKQEvHPrI",
        "outputId": "e1d34f48-8137-4303-bf38-a56d30aed031"
      },
      "execution_count": 11,
      "outputs": [
        {
          "output_type": "stream",
          "name": "stdout",
          "text": [
            "Device:  cpu\n"
          ]
        }
      ]
    },
    {
      "cell_type": "code",
      "source": [
        "a = 5\n",
        "a"
      ],
      "metadata": {
        "id": "-lpUlX6WHPl9",
        "colab": {
          "base_uri": "https://localhost:8080/"
        },
        "outputId": "1805e246-194f-40ce-d9e0-e7690b0c0c8e"
      },
      "execution_count": 13,
      "outputs": [
        {
          "output_type": "execute_result",
          "data": {
            "text/plain": [
              "5"
            ]
          },
          "metadata": {},
          "execution_count": 13
        }
      ]
    }
  ]
}